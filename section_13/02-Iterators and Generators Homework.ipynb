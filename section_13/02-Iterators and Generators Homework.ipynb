{
 "cells":[
  {
   "cell_type":"markdown",
   "source":[
    "___\n",
    "\n",
    "<a href='https:\/\/www.udemy.com\/user\/joseportilla\/'><img src='..\/Pierian_Data_Logo.png'\/><\/a>\n",
    "___\n",
    "<center><em>Content Copyright by Pierian Data<\/em><\/center>"
   ],
   "attachments":{
    
   },
   "metadata":{
    "datalore":{
     "type":"MD",
     "hide_input_from_viewers":false,
     "hide_output_from_viewers":false,
     "node_id":"NeWSirWIGU5XmYBDQOIhEg"
    }
   }
  },
  {
   "cell_type":"markdown",
   "source":[
    "# Iterators and Generators Homework \n",
    "\n",
    "### Problem 1\n",
    "\n",
    "Create a generator that generates the squares of numbers up to some number N."
   ],
   "attachments":{
    
   },
   "metadata":{
    "datalore":{
     "type":"MD",
     "hide_input_from_viewers":false,
     "hide_output_from_viewers":false,
     "node_id":"6Cm8J14gdLrMDGjkWsSEsu"
    }
   }
  },
  {
   "cell_type":"code",
   "source":[
    "def gensquares(N):\n",
    "    for i in range(N + 1):\n",
    "        yield i**2"
   ],
   "execution_count":11,
   "outputs":[
    
   ],
   "metadata":{
    "datalore":{
     "type":"CODE",
     "hide_input_from_viewers":false,
     "hide_output_from_viewers":false,
     "node_id":"BuvZmX4EXIhYObG09DLNLN"
    }
   }
  },
  {
   "cell_type":"code",
   "source":[
    "for x in gensquares(10):\n",
    "    print(x)"
   ],
   "execution_count":12,
   "outputs":[
    {
     "name":"stdout",
     "text":[
      "0\n",
      "1\n",
      "4\n",
      "9\n",
      "16\n",
      "25\n",
      "36\n",
      "49\n",
      "64\n",
      "81\n",
      "100\n"
     ],
     "output_type":"stream"
    }
   ],
   "metadata":{
    "datalore":{
     "type":"CODE",
     "hide_input_from_viewers":false,
     "hide_output_from_viewers":false,
     "node_id":"Ewp5RZ3dP9kTM5vqlQbJjm"
    }
   }
  },
  {
   "cell_type":"markdown",
   "source":[
    "### Problem 2\n",
    "\n",
    "Create a generator that yields \"n\" random numbers between a low and high number (that are inputs). <br>Note: Use the random library. For example:"
   ],
   "attachments":{
    
   },
   "metadata":{
    "datalore":{
     "type":"MD",
     "hide_input_from_viewers":false,
     "hide_output_from_viewers":false,
     "node_id":"FKgOz8TL3fmU2yvFRQLQlv"
    }
   }
  },
  {
   "cell_type":"code",
   "source":[
    "import random\n",
    "\n",
    "random.randint(1,10)"
   ],
   "execution_count":16,
   "outputs":[
    {
     "data":{
      "text\/plain":[
       "1"
      ]
     },
     "metadata":{
      
     },
     "output_type":"display_data"
    }
   ],
   "metadata":{
    "datalore":{
     "type":"CODE",
     "hide_input_from_viewers":false,
     "hide_output_from_viewers":false,
     "node_id":"PZuQ6cs3JJdxvgi1TMCLtF"
    }
   }
  },
  {
   "cell_type":"code",
   "source":[
    "def rand_num(low,high,n):\n",
    "    for _ in range(n):\n",
    "        yield random.randint(low, high)"
   ],
   "execution_count":19,
   "outputs":[
    
   ],
   "metadata":{
    "datalore":{
     "type":"CODE",
     "hide_input_from_viewers":false,
     "hide_output_from_viewers":false,
     "node_id":"w2d2H7LdzwEzfPBMydvwRq"
    }
   }
  },
  {
   "cell_type":"code",
   "source":[
    "for num in rand_num(1,10,12):\n",
    "    print(num)"
   ],
   "execution_count":20,
   "outputs":[
    {
     "name":"stdout",
     "text":[
      "3\n",
      "9\n",
      "9\n",
      "10\n",
      "9\n",
      "2\n",
      "10\n",
      "9\n",
      "3\n",
      "3\n",
      "4\n",
      "3\n"
     ],
     "output_type":"stream"
    }
   ],
   "metadata":{
    "datalore":{
     "type":"CODE",
     "hide_input_from_viewers":false,
     "hide_output_from_viewers":false,
     "node_id":"X3a2pVZaspnzIgLR1SoFtK"
    }
   }
  },
  {
   "cell_type":"markdown",
   "source":[
    "### Problem 3\n",
    "\n",
    "Use the iter() function to convert the string below into an iterator:"
   ],
   "attachments":{
    
   },
   "metadata":{
    "datalore":{
     "type":"MD",
     "hide_input_from_viewers":false,
     "hide_output_from_viewers":false,
     "node_id":"BJaYO8ni9whxYrNAtUTfMY"
    }
   }
  },
  {
   "cell_type":"code",
   "source":[
    "s = 'hello'\n",
    "\n",
    "#code here\n",
    "s_iter = iter(s)"
   ],
   "execution_count":22,
   "outputs":[
    
   ],
   "metadata":{
    "datalore":{
     "type":"CODE",
     "hide_input_from_viewers":false,
     "hide_output_from_viewers":false,
     "node_id":"V1hDw71rpEZwFqLy1BYtd4"
    }
   }
  },
  {
   "cell_type":"markdown",
   "source":[
    "### Problem 4\n",
    "Explain a use case for a generator using a yield statement where you would not want to use a normal function with a return statement.<br><br><br><br><br><br>\n",
    "When we want to generate an extremely long sequence of numbers, and we want to use the memory efficiently.\n"
   ],
   "attachments":{
    
   },
   "metadata":{
    "datalore":{
     "type":"MD",
     "hide_input_from_viewers":false,
     "hide_output_from_viewers":false,
     "node_id":"ypgC22WTVIKCL8Uwwi9g7S"
    }
   }
  },
  {
   "cell_type":"markdown",
   "source":[
    "### Extra Credit!\n",
    "Can you explain what *gencomp* is in the code below? (Note: We never covered this in lecture! You will have to do some Googling\/Stack Overflowing!)"
   ],
   "attachments":{
    
   },
   "metadata":{
    "datalore":{
     "type":"MD",
     "hide_input_from_viewers":false,
     "hide_output_from_viewers":false,
     "node_id":"HFnZbmJ68TA5jmzJVq7C4b"
    }
   }
  },
  {
   "cell_type":"code",
   "source":[
    "my_list = [1,2,3,4,5]\n",
    "\n",
    "gencomp = (item for item in my_list if item > 3)\n",
    "\n",
    "for item in gencomp:\n",
    "    print(item)"
   ],
   "execution_count":31,
   "outputs":[
    {
     "name":"stdout",
     "text":[
      "4\n",
      "5\n"
     ],
     "output_type":"stream"
    }
   ],
   "metadata":{
    "datalore":{
     "type":"CODE",
     "hide_input_from_viewers":false,
     "hide_output_from_viewers":false,
     "node_id":"dT18NIJpwyJjVmFwb4vltG"
    }
   }
  },
  {
   "cell_type":"markdown",
   "source":[
    "Hint: Google *generator comprehension*!\n",
    "\n",
    "# Great Job!"
   ],
   "attachments":{
    
   },
   "metadata":{
    "datalore":{
     "type":"MD",
     "hide_input_from_viewers":false,
     "hide_output_from_viewers":false,
     "node_id":"7zlDMXRR9MdfHZ3bpwXhVa"
    }
   }
  }
 ],
 "metadata":{
  "datalore":{
   "version":1,
   "computation_mode":"JUPYTER",
   "package_manager":"pip",
   "base_environment":"default",
   "packages":[
    
   ]
  }
 },
 "nbformat":4,
 "nbformat_minor":4
}
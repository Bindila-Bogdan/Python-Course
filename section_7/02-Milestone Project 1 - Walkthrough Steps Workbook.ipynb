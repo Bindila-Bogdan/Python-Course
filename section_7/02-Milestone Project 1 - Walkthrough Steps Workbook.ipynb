{
 "cells":[
  {
   "cell_type":"markdown",
   "source":[
    "___\n",
    "\n",
    "<a href='https:\/\/www.udemy.com\/user\/joseportilla\/'><img src='..\/Pierian_Data_Logo.png'\/><\/a>\n",
    "___\n",
    "<center><em>Content Copyright by Pierian Data<\/em><\/center>"
   ],
   "attachments":{
    
   },
   "metadata":{
    "datalore":{
     "type":"MD",
     "hide_input_from_viewers":false,
     "hide_output_from_viewers":false
    }
   }
  },
  {
   "cell_type":"markdown",
   "source":[
    "# Milestone Project 1: Walkthrough Steps Workbook\n",
    "\n",
    "Below is a set of steps for you to follow to try to create the Tic Tac Toe Milestone Project game!"
   ],
   "attachments":{
    
   },
   "metadata":{
    "datalore":{
     "type":"MD",
     "hide_input_from_viewers":false,
     "hide_output_from_viewers":false
    }
   }
  },
  {
   "cell_type":"markdown",
   "source":[
    "#### Some suggested tools before you get started:\n",
    "To take input from a user:\n",
    "\n",
    "    player1 = input(\"Please pick a marker 'X' or 'O'\")\n",
    "    \n",
    "Note that input() takes in a string. If you need an integer value, use\n",
    "\n",
    "    position = int(input('Please enter a number'))\n",
    "    \n",
    "<br>To clear the screen between moves:\n",
    "\n",
    "    from IPython.display import clear_output\n",
    "    clear_output()\n",
    "    \n",
    "Note that clear_output() will only work in jupyter. To clear the screen in other IDEs, consider:\n",
    "\n",
    "    print('\\n'*100)\n",
    "    \n",
    "This scrolls the previous board up out of view. Now on to the program!"
   ],
   "attachments":{
    
   },
   "metadata":{
    "datalore":{
     "type":"MD",
     "hide_input_from_viewers":false,
     "hide_output_from_viewers":false
    }
   }
  },
  {
   "cell_type":"markdown",
   "source":[
    "**Step 1: Write a function that can print out a board. Set up your board as a list, where each index 1-9 corresponds with a number on a number pad, so you get a 3 by 3 board representation.**"
   ],
   "attachments":{
    
   },
   "metadata":{
    "datalore":{
     "type":"MD",
     "hide_input_from_viewers":false,
     "hide_output_from_viewers":false
    }
   }
  },
  {
   "cell_type":"code",
   "source":[
    "from IPython.display import clear_output\n",
    "\n",
    "def display_board(board):\n",
    "    clear_output(wait=True)\n",
    "    \n",
    "    for i in range(2, -1, -1):\n",
    "        print(f'|{board[i * 3 + 1]}|{board[i * 3 + 2]}|{board[i*3 + 3]}|')\n",
    "\n",
    "        if i in [2, 1]:\n",
    "            print('-'*7)"
   ],
   "execution_count":1,
   "outputs":[
    
   ],
   "metadata":{
    "datalore":{
     "type":"CODE",
     "hide_input_from_viewers":false,
     "hide_output_from_viewers":false
    }
   }
  },
  {
   "cell_type":"markdown",
   "source":[
    "**TEST Step 1:** run your function on a test version of the board list, and make adjustments as necessary"
   ],
   "attachments":{
    
   },
   "metadata":{
    "datalore":{
     "type":"MD",
     "hide_input_from_viewers":false,
     "hide_output_from_viewers":false
    }
   }
  },
  {
   "cell_type":"code",
   "source":[
    "test_board = ['#','X','O','X','O','X','O','X','O','X']\n",
    "display_board(test_board)"
   ],
   "execution_count":2,
   "outputs":[
    
   ],
   "metadata":{
    "datalore":{
     "type":"CODE",
     "hide_input_from_viewers":false,
     "hide_output_from_viewers":false
    }
   }
  },
  {
   "cell_type":"markdown",
   "source":[
    "**Step 2: Write a function that can take in a player input and assign their marker as 'X' or 'O'. Think about using *while* loops to continually ask until you get a correct answer.**"
   ],
   "attachments":{
    
   },
   "metadata":{
    "datalore":{
     "type":"MD",
     "hide_input_from_viewers":false,
     "hide_output_from_viewers":false
    }
   }
  },
  {
   "cell_type":"code",
   "source":[
    "def player_input():\n",
    "    marker = ' '\n",
    "    valid_markers = ['X', 'O']\n",
    "\n",
    "    while marker not in valid_markers:\n",
    "        marker = input('First player, please choose your marker: ')\n",
    "\n",
    "        if marker not in valid_markers:\n",
    "            print('Please pick X or O.')\n",
    "\n",
    "    return marker"
   ],
   "execution_count":3,
   "outputs":[
    
   ],
   "metadata":{
    "datalore":{
     "type":"CODE",
     "hide_input_from_viewers":false,
     "hide_output_from_viewers":false
    }
   }
  },
  {
   "cell_type":"markdown",
   "source":[
    "**TEST Step 2:** run the function to make sure it returns the desired output"
   ],
   "attachments":{
    
   },
   "metadata":{
    "datalore":{
     "type":"MD",
     "hide_input_from_viewers":false,
     "hide_output_from_viewers":false
    }
   }
  },
  {
   "cell_type":"code",
   "source":[
    "# player_input()"
   ],
   "execution_count":4,
   "outputs":[
    
   ],
   "metadata":{
    "datalore":{
     "type":"CODE",
     "hide_input_from_viewers":false,
     "hide_output_from_viewers":false
    }
   }
  },
  {
   "cell_type":"markdown",
   "source":[
    "**Step 3: Write a function that takes in the board list object, a marker ('X' or 'O'), and a desired position (number 1-9) and assigns it to the board.**"
   ],
   "attachments":{
    
   },
   "metadata":{
    "datalore":{
     "type":"MD",
     "hide_input_from_viewers":false,
     "hide_output_from_viewers":false
    }
   }
  },
  {
   "cell_type":"code",
   "source":[
    "def place_marker(board, marker, position):\n",
    "    board[position] = marker"
   ],
   "execution_count":5,
   "outputs":[
    
   ],
   "metadata":{
    "datalore":{
     "type":"CODE",
     "hide_input_from_viewers":false,
     "hide_output_from_viewers":false
    }
   }
  },
  {
   "cell_type":"markdown",
   "source":[
    "**TEST Step 3:** run the place marker function using test parameters and display the modified board"
   ],
   "attachments":{
    
   },
   "metadata":{
    "datalore":{
     "type":"MD",
     "hide_input_from_viewers":false,
     "hide_output_from_viewers":false
    }
   }
  },
  {
   "cell_type":"code",
   "source":[
    "place_marker(test_board,'$',8)\n",
    "display_board(test_board)"
   ],
   "execution_count":6,
   "outputs":[
    
   ],
   "metadata":{
    "datalore":{
     "type":"CODE",
     "hide_input_from_viewers":false,
     "hide_output_from_viewers":false
    }
   }
  },
  {
   "cell_type":"markdown",
   "source":[
    "**Step 4: Write a function that takes in a board and a mark (X or O) and then checks to see if that mark has won. **"
   ],
   "attachments":{
    
   },
   "metadata":{
    "datalore":{
     "type":"MD",
     "hide_input_from_viewers":false,
     "hide_output_from_viewers":false
    }
   }
  },
  {
   "cell_type":"code",
   "source":[
    "def win_check(board, mark):\n",
    "    for position in [1, 4, 7]:\n",
    "        if board[position] == board[position + 1] == board[position + 2] == mark:\n",
    "            return True\n",
    "\n",
    "    for position in range(1, 4):\n",
    "        if board[position] == board[position + 3] == board[position + 6] == mark:\n",
    "            return True\n",
    "\n",
    "    if board[1] == board[5] == board[9] == mark:\n",
    "            return True\n",
    "        \n",
    "    if board[3] == board[5] == board[7] == mark:\n",
    "            return True\n",
    "        \n",
    "    return False"
   ],
   "execution_count":7,
   "outputs":[
    
   ],
   "metadata":{
    "datalore":{
     "type":"CODE",
     "hide_input_from_viewers":false,
     "hide_output_from_viewers":false
    }
   }
  },
  {
   "cell_type":"markdown",
   "source":[
    "**TEST Step 4:** run the win_check function against our test_board - it should return True"
   ],
   "attachments":{
    
   },
   "metadata":{
    "datalore":{
     "type":"MD",
     "hide_input_from_viewers":false,
     "hide_output_from_viewers":false
    }
   }
  },
  {
   "cell_type":"code",
   "source":[
    "# win_check(test_board,'X')"
   ],
   "execution_count":8,
   "outputs":[
    
   ],
   "metadata":{
    "datalore":{
     "type":"CODE",
     "hide_input_from_viewers":false,
     "hide_output_from_viewers":false
    }
   }
  },
  {
   "cell_type":"markdown",
   "source":[
    "**Step 5: Write a function that uses the random module to randomly decide which player goes first. You may want to lookup random.randint() Return a string of which player went first.**"
   ],
   "attachments":{
    
   },
   "metadata":{
    "datalore":{
     "type":"MD",
     "hide_input_from_viewers":false,
     "hide_output_from_viewers":false
    }
   }
  },
  {
   "cell_type":"code",
   "source":[
    "import random\n",
    "\n",
    "def choose_first():\n",
    "    first_player_index = random.randint(0, 1)\n",
    "    print(f'Player {first_player_index + 1} will go first.')\n",
    "    \n",
    "    return random.randint(0, 1)"
   ],
   "execution_count":1,
   "outputs":[
    
   ],
   "metadata":{
    "datalore":{
     "type":"CODE",
     "hide_input_from_viewers":false,
     "hide_output_from_viewers":false
    }
   }
  },
  {
   "cell_type":"markdown",
   "source":[
    "**Step 6: Write a function that returns a boolean indicating whether a space on the board is freely available.**"
   ],
   "attachments":{
    
   },
   "metadata":{
    "datalore":{
     "type":"MD",
     "hide_input_from_viewers":false,
     "hide_output_from_viewers":false
    }
   }
  },
  {
   "cell_type":"code",
   "source":[
    "def space_check(board, position):\n",
    "    return board[position] == ' '"
   ],
   "execution_count":10,
   "outputs":[
    
   ],
   "metadata":{
    "datalore":{
     "type":"CODE",
     "hide_input_from_viewers":false,
     "hide_output_from_viewers":false
    }
   }
  },
  {
   "cell_type":"markdown",
   "source":[
    "**Step 7: Write a function that checks if the board is full and returns a boolean value. True if full, False otherwise.**"
   ],
   "attachments":{
    
   },
   "metadata":{
    "datalore":{
     "type":"MD",
     "hide_input_from_viewers":false,
     "hide_output_from_viewers":false
    }
   }
  },
  {
   "cell_type":"code",
   "source":[
    "def full_board_check(board):\n",
    "    return ' ' not in board"
   ],
   "execution_count":11,
   "outputs":[
    
   ],
   "metadata":{
    "datalore":{
     "type":"CODE",
     "hide_input_from_viewers":false,
     "hide_output_from_viewers":false
    }
   }
  },
  {
   "cell_type":"markdown",
   "source":[
    "**Step 8: Write a function that asks for a player's next position (as a number 1-9) and then uses the function from step 6 to check if it's a free position. If it is, then return the position for later use.**"
   ],
   "attachments":{
    
   },
   "metadata":{
    "datalore":{
     "type":"MD",
     "hide_input_from_viewers":false,
     "hide_output_from_viewers":false
    }
   }
  },
  {
   "cell_type":"code",
   "source":[
    "def player_choice(board):\n",
    "    position = ''\n",
    "    valid_positions = ['1', '2', '3', '4', '5', '6', '7', '8', '9']\n",
    "\n",
    "    while position not in range(1, 10):\n",
    "        input_position = input('Introduce the next position: ')\n",
    "\n",
    "        if input_position in valid_positions:\n",
    "            position = int(input_position)\n",
    "\n",
    "            if not space_check(board, position):\n",
    "                position = ' '\n",
    "                print('Position is occupied.')\n",
    "\n",
    "            else:\n",
    "                return position\n",
    "\n",
    "        else:\n",
    "            print('Position is invalid.')"
   ],
   "execution_count":12,
   "outputs":[
    
   ],
   "metadata":{
    "datalore":{
     "type":"CODE",
     "hide_input_from_viewers":false,
     "hide_output_from_viewers":false
    }
   }
  },
  {
   "cell_type":"markdown",
   "source":[
    "**Step 9: Write a function that asks the player if they want to play again and returns a boolean True if they do want to play again.**"
   ],
   "attachments":{
    
   },
   "metadata":{
    "datalore":{
     "type":"MD",
     "hide_input_from_viewers":false,
     "hide_output_from_viewers":false
    }
   }
  },
  {
   "cell_type":"code",
   "source":[
    "def replay():\n",
    "    play_again = ' '\n",
    "    accepted_options = ['Y', 'N']\n",
    "\n",
    "    while play_again not in accepted_options:\n",
    "        play_again = input('Do you want to play again? (Y\/N)')\n",
    "\n",
    "        if play_again == 'Y':\n",
    "            return True\n",
    "        \n",
    "        elif play_again == 'N':\n",
    "            return False\n",
    "\n",
    "        else:\n",
    "            print('Invalid option.')"
   ],
   "execution_count":13,
   "outputs":[
    
   ],
   "metadata":{
    "datalore":{
     "type":"CODE",
     "hide_input_from_viewers":false,
     "hide_output_from_viewers":false
    }
   }
  },
  {
   "cell_type":"markdown",
   "source":[
    "**Step 10: Here comes the hard part! Use while loops and the functions you've made to run the game!**"
   ],
   "attachments":{
    
   },
   "metadata":{
    "datalore":{
     "type":"MD",
     "hide_input_from_viewers":false,
     "hide_output_from_viewers":false
    }
   }
  },
  {
   "cell_type":"code",
   "source":[
    "print('Welcome to Tic Tac Toe!')\n",
    "\n",
    "while True:\n",
    "    game_on = True\n",
    "    board = ['#'] + [' '] * 9\n",
    "    first_player_marker = player_input()\n",
    "    index = choose_first()\n",
    "\n",
    "\n",
    "    if first_player_marker == 'X':\n",
    "        second_player_marker = 'O'\n",
    "    \n",
    "    else:\n",
    "        second_player_marker = 'X'\n",
    "\n",
    "    while game_on:\n",
    "        if index % 2 == 0:\n",
    "            print('First player: ')\n",
    "            position = player_choice(board)\n",
    "            place_marker(board, first_player_marker, position)\n",
    "\n",
    "            display_board(board)\n",
    "            won = win_check(board, first_player_marker)\n",
    "            full_board = full_board_check(board)\n",
    "        \n",
    "            if won:\n",
    "                print(\"First player has won!\")\n",
    "            elif full_board:\n",
    "                print(\"The board is full.\")\n",
    "\n",
    "            game_on = not won and not full_board\n",
    "\n",
    "        else:\n",
    "            print('Second player: ')\n",
    "            position = player_choice(board)\n",
    "            place_marker(board, second_player_marker, position)\n",
    "        \n",
    "            display_board(board)\n",
    "            won = win_check(board, second_player_marker)\n",
    "            full_board = full_board_check(board)\n",
    "        \n",
    "            if won:\n",
    "                print(\"Second player has won!\")\n",
    "            elif full_board:\n",
    "                print(\"The board is full.\")\n",
    "\n",
    "            game_on = not won and not full_board\n",
    "        \n",
    "        index += 1\n",
    "\n",
    "    if not replay():\n",
    "        break"
   ],
   "execution_count":14,
   "outputs":[
    
   ],
   "metadata":{
    "datalore":{
     "type":"CODE",
     "hide_input_from_viewers":false,
     "hide_output_from_viewers":false
    }
   }
  },
  {
   "cell_type":"markdown",
   "source":[
    "## Good Job!"
   ],
   "attachments":{
    
   },
   "metadata":{
    "datalore":{
     "type":"MD",
     "hide_input_from_viewers":false,
     "hide_output_from_viewers":false
    }
   }
  }
 ],
 "metadata":{
  "datalore":{
   "version":1,
   "computation_mode":"JUPYTER",
   "package_manager":"pip",
   "base_environment":"default",
   "packages":[
    
   ]
  }
 },
 "nbformat":4,
 "nbformat_minor":4
}
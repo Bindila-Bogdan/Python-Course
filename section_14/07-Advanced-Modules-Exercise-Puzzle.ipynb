{
 "cells": [
  {
   "cell_type": "code",
   "execution_count": 45,
   "metadata": {},
   "outputs": [],
   "source": [
    "import os\n",
    "import re\n",
    "import zipfile"
   ]
  },
  {
   "cell_type": "code",
   "execution_count": 46,
   "metadata": {},
   "outputs": [],
   "source": [
    "comp_file = zipfile.ZipFile('./08-Advanced-Python-Module-Exercise/unzip_me_for_instructions.zip', 'r')\n",
    "comp_file.extractall('./')"
   ]
  },
  {
   "cell_type": "code",
   "execution_count": 47,
   "metadata": {},
   "outputs": [
    {
     "name": "stdout",
     "output_type": "stream",
     "text": [
      "Good work on unzipping the file!\n",
      "You should now see 5 folders, each with a lot of random .txt files.\n",
      "Within one of these text files is a telephone number formated ###-###-#### \n",
      "Use the Python os module and regular expressions to iterate through each file, open it, and search for a telephone number.\n",
      "Good luck!\n"
     ]
    }
   ],
   "source": [
    "with open('./extracted_content/Instructions.txt', 'r') as file:\n",
    "    print(file.read())"
   ]
  },
  {
   "cell_type": "code",
   "execution_count": 48,
   "metadata": {},
   "outputs": [
    {
     "name": "stdout",
     "output_type": "stream",
     "text": [
      "The phone number is 719-266-2837\n"
     ]
    }
   ],
   "source": [
    "phone_number = None\n",
    "\n",
    "for folder, sub_folder, files in os.walk('./extracted_content/'):\n",
    "    for file in files:\n",
    "        with open(folder + '/' + file, 'r') as file:\n",
    "            matches = re.findall(r'\\d{3}-\\d{3}-\\d{4}', file.read())\n",
    "\n",
    "            if len(matches) != 0:\n",
    "                phone_number = matches[0]\n",
    "\n",
    "print(f'The phone number is {phone_number}')\n"
   ]
  }
 ],
 "metadata": {
  "interpreter": {
   "hash": "1d2a2f029860c67ad5227ae8bdf86333d0d3f971944ee5a2a0242ca92b359cbe"
  },
  "kernelspec": {
   "display_name": "Python 3.9.7 ('base')",
   "language": "python",
   "name": "python3"
  },
  "language_info": {
   "codemirror_mode": {
    "name": "ipython",
    "version": 3
   },
   "file_extension": ".py",
   "mimetype": "text/x-python",
   "name": "python",
   "nbconvert_exporter": "python",
   "pygments_lexer": "ipython3",
   "version": "3.9.7"
  },
  "orig_nbformat": 4
 },
 "nbformat": 4,
 "nbformat_minor": 2
}
